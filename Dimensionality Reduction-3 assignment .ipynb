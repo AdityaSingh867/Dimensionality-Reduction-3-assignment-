{
 "cells": [
  {
   "cell_type": "markdown",
   "id": "424c557f-2df4-41c8-9d9f-860d088cfb96",
   "metadata": {},
   "source": [
    "Q1. What are Eigenvalues and Eigenvectors? How are they related to the Eigen-Decomposition approach?\n",
    "Explain with an example."
   ]
  },
  {
   "cell_type": "markdown",
   "id": "2441fd7e-35cd-482a-adfc-6972b21e79ac",
   "metadata": {},
   "source": [
    "Eigenvalues and eigenvectors are concepts in linear algebra. Eigenvectors are non-zero vectors that remain in the same direction after a linear transformation. Eigenvalues are the corresponding scalars that scale the eigenvectors. Eigen-decomposition decomposes a matrix into eigenvectors and eigenvalues."
   ]
  },
  {
   "cell_type": "markdown",
   "id": "e3fdbda6-2bc1-415f-a82f-4b0bcdb8b79c",
   "metadata": {},
   "source": [
    "Q2. What is eigen decomposition and what is its significance in linear algebra?"
   ]
  },
  {
   "cell_type": "markdown",
   "id": "61b6e654-5ed7-40d5-9a54-837ce7f24bc5",
   "metadata": {},
   "source": [
    "the factorization of a matrix into a canonical form, whereby the matrix is represented in terms of its eigenvalues and eigenvectors."
   ]
  },
  {
   "cell_type": "markdown",
   "id": "7d5e2079-3883-4b76-a21f-b51f03533f97",
   "metadata": {},
   "source": [
    "Q3. What are the conditions that must be satisfied for a square matrix to be diagonalizable using the\n",
    "Eigen-Decomposition approach? Provide a brief proof to support your answer."
   ]
  },
  {
   "cell_type": "markdown",
   "id": "2fb2285a-62f2-4264-b986-8622a8748c4d",
   "metadata": {},
   "source": [
    "a matrix is diagonalizable if and only if its nilpotent part is zero."
   ]
  },
  {
   "cell_type": "markdown",
   "id": "cfe07872-8454-47e4-b30f-c9553eb812c2",
   "metadata": {},
   "source": [
    "A square matrix A can be diagonalizable using the eigen-decomposition approach if it has n linearly independent eigenvectors and these eigenvectors form a complete set. This means that the eigenvectors span the entire vector space. Conversely, if these conditions are not satisfied, A cannot be diagonalized using the eigen-decomposition approach."
   ]
  },
  {
   "cell_type": "markdown",
   "id": "89532130-28fe-4282-8dd7-76a06b057898",
   "metadata": {},
   "source": [
    "Q4. What is the significance of the spectral theorem in the context of the Eigen-Decomposition approach?\n",
    "How is it related to the diagonalizability of a matrix? Explain with an example."
   ]
  },
  {
   "cell_type": "markdown",
   "id": "fec30611-81e9-4e6c-9cdc-218490e20912",
   "metadata": {},
   "source": [
    "The spectral theorem is a fundamental result in linear algebra that establishes a connection between the diagonalizability of a matrix and its eigenvalues. In the context of the eigen-decomposition approach, the spectral theorem states that a matrix A is diagonalizable if and only if it has a full set of linearly independent eigenvectors. This means that A can be expressed as A = PDP^(-1), where P is a matrix composed of eigenvectors and D is a diagonal matrix with eigenvalues. The spectral theorem ensures that the eigenvalues and eigenvectors provide a complete and concise representation of the matrix, allowing for efficient computations and analysis.\n"
   ]
  },
  {
   "cell_type": "markdown",
   "id": "913cd824-4e2a-420d-b884-80f25690c97c",
   "metadata": {},
   "source": [
    "Q5. How do you find the eigenvalues of a matrix and what do they represent?"
   ]
  },
  {
   "cell_type": "markdown",
   "id": "ac58cfcd-0b1a-4e42-856d-10cb2d7c408f",
   "metadata": {},
   "source": [
    "Find its characteristic equation using |A - λI| = 0, where I is the identity matrix of same order A. Solve it for λ and the solutions would give the eigenvalues.\n"
   ]
  },
  {
   "cell_type": "markdown",
   "id": "6877122a-1400-43f1-8c83-982881f83e92",
   "metadata": {},
   "source": [
    "Q6. What are eigenvectors and how are they related to eigenvalues?"
   ]
  },
  {
   "cell_type": "markdown",
   "id": "0a9f5431-a93b-4bec-b322-5a7545a25bcd",
   "metadata": {},
   "source": [
    "eigenvalues and eigenvectors are the building blocks of linear transformations. "
   ]
  },
  {
   "cell_type": "markdown",
   "id": "d7e4d1f3-3c55-47f6-accb-8731793be2c9",
   "metadata": {},
   "source": [
    "Q7. Can you explain the geometric interpretation of eigenvectors and eigenvalues?"
   ]
  },
  {
   "cell_type": "markdown",
   "id": "eaf36dfe-0902-4803-a456-26f16713b9ef",
   "metadata": {},
   "source": [
    "An eigenvector, corresponding to a real nonzero eigenvalue for that matrix, points in a direction in which it is stretched by the transformation, and is neither rotated nor sheared"
   ]
  },
  {
   "cell_type": "markdown",
   "id": "8ce7b98e-250d-43e4-972c-73ce46569bea",
   "metadata": {},
   "source": [
    "Q8. What are some real-world applications of eigen decomposition?"
   ]
  },
  {
   "cell_type": "markdown",
   "id": "62849ef1-00cc-4fd2-8b5f-682d733b637a",
   "metadata": {},
   "source": [
    " used in car design especially car stereo system and also in decoupling three phase system."
   ]
  },
  {
   "cell_type": "markdown",
   "id": "2a158d58-2819-4c8e-92d2-29c1252ece27",
   "metadata": {},
   "source": [
    "Q9. Can a matrix have more than one set of eigenvectors and eigenvalues?"
   ]
  },
  {
   "cell_type": "markdown",
   "id": "b3923800-5c95-42e1-b7b1-afe214662976",
   "metadata": {},
   "source": [
    "Since a nonzero subspace is infinite, every eigenvalue has infinitely many eigenvectors. "
   ]
  },
  {
   "cell_type": "markdown",
   "id": "ec55efed-4d27-48c4-a609-bc5e412671f2",
   "metadata": {},
   "source": [
    "Q10. In what ways is the Eigen-Decomposition approach useful in data analysis and machine learning?\n",
    "Discuss at least three specific applications or techniques that rely on Eigen-Decomposition."
   ]
  },
  {
   "cell_type": "markdown",
   "id": "84fe422d-0a4a-4cbe-b6ff-c7632a9bd624",
   "metadata": {},
   "source": [
    "The Eigen-Decomposition approach is useful in data analysis and machine learning for several reasons. It allows for dimensionality reduction through feature extraction, identification of dominant patterns in data, matrix approximation, and solving systems of linear equations. It forms the basis for techniques like Principal Component Analysis (PCA) and eigenvalue-based clustering algorithms."
   ]
  },
  {
   "cell_type": "markdown",
   "id": "3ab00ca8-14b2-4781-81cd-b1c51474446e",
   "metadata": {},
   "source": [
    "- Principal Component Analysis (PCA): PCA is a dimensionality reduction technique widely used in data analysis and machine learning.\n",
    "\n",
    "- Image Compression: Eigen-decomposition is employed in image compression algorithms such as JPEG and MPEG.\n",
    "- Network Analysis: Eigen-decomposition plays a crucial role in network analysis, particularly in the study of graph structures. "
   ]
  }
 ],
 "metadata": {
  "kernelspec": {
   "display_name": "Python 3 (ipykernel)",
   "language": "python",
   "name": "python3"
  },
  "language_info": {
   "codemirror_mode": {
    "name": "ipython",
    "version": 3
   },
   "file_extension": ".py",
   "mimetype": "text/x-python",
   "name": "python",
   "nbconvert_exporter": "python",
   "pygments_lexer": "ipython3",
   "version": "3.10.8"
  }
 },
 "nbformat": 4,
 "nbformat_minor": 5
}
